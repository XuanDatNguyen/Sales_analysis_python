{
 "cells": [
  {
   "cell_type": "markdown",
   "id": "ba684356",
   "metadata": {},
   "source": [
    "# Project phân tích dữ liệu bán hàng"
   ]
  },
  {
   "cell_type": "markdown",
   "id": "d5ae5ebb",
   "metadata": {},
   "source": [
    "#### Năm 2019 có 12 file dữ liệu từ \"sales2019_1.csv\" đến \"sales2019_12.csv\" tương ứng với 12 file dữ liệu kinh doanh trong 12 tháng.\n",
    "#### Phòng sales yêu cầu phải trả lời cho họ 5 câu hỏi: \n",
    "#### Câu 1: Tháng nào có doanh thu cao nhất và bằng bao nhiêu?\n",
    "#### Câu 2: Thành phố nào có doanh thu cao nhất và bằng bao nhiêu?\n",
    "#### Câu 3: Doanh nghiệp cần chạy quảng cáo vào khung giờ nào để tăng hiệu quả kinh doanh?\n",
    "#### Câu 4: Sán phẩm nào được mua nhiều nhất? Giả thiết của bạn về lý do sản phẩm đó bán chạy?\n",
    "#### Câu 5: Sản phẩm nào hay được bán cùng nhau?"
   ]
  },
  {
   "cell_type": "markdown",
   "id": "a06a1ffa",
   "metadata": {},
   "source": [
    "### Import các thư viện cần thiết"
   ]
  },
  {
   "cell_type": "code",
   "execution_count": 2,
   "id": "6289d188",
   "metadata": {},
   "outputs": [],
   "source": [
    "import pandas as pd\n",
    "import numpy as np\n",
    "import matplotlib.pyplot as plt \n",
    "import os"
   ]
  },
  {
   "cell_type": "code",
   "execution_count": 30,
   "id": "179de28e",
   "metadata": {
    "scrolled": false
   },
   "outputs": [
    {
     "data": {
      "text/html": [
       "<div>\n",
       "<style scoped>\n",
       "    .dataframe tbody tr th:only-of-type {\n",
       "        vertical-align: middle;\n",
       "    }\n",
       "\n",
       "    .dataframe tbody tr th {\n",
       "        vertical-align: top;\n",
       "    }\n",
       "\n",
       "    .dataframe thead th {\n",
       "        text-align: right;\n",
       "    }\n",
       "</style>\n",
       "<table border=\"1\" class=\"dataframe\">\n",
       "  <thead>\n",
       "    <tr style=\"text-align: right;\">\n",
       "      <th></th>\n",
       "      <th>Order ID</th>\n",
       "      <th>Product</th>\n",
       "      <th>Quantity Ordered</th>\n",
       "      <th>Price Each</th>\n",
       "      <th>Order Date</th>\n",
       "      <th>Purchase Address</th>\n",
       "    </tr>\n",
       "  </thead>\n",
       "  <tbody>\n",
       "    <tr>\n",
       "      <th>0</th>\n",
       "      <td>141234</td>\n",
       "      <td>iPhone</td>\n",
       "      <td>1</td>\n",
       "      <td>700</td>\n",
       "      <td>01/22/19 21:25</td>\n",
       "      <td>944 Walnut St, Boston, MA 02215</td>\n",
       "    </tr>\n",
       "    <tr>\n",
       "      <th>1</th>\n",
       "      <td>141235</td>\n",
       "      <td>Lightning Charging Cable</td>\n",
       "      <td>1</td>\n",
       "      <td>14.95</td>\n",
       "      <td>01/28/19 14:15</td>\n",
       "      <td>185 Maple St, Portland, OR 97035</td>\n",
       "    </tr>\n",
       "    <tr>\n",
       "      <th>2</th>\n",
       "      <td>141236</td>\n",
       "      <td>Wired Headphones</td>\n",
       "      <td>2</td>\n",
       "      <td>11.99</td>\n",
       "      <td>01/17/19 13:33</td>\n",
       "      <td>538 Adams St, San Francisco, CA 94016</td>\n",
       "    </tr>\n",
       "    <tr>\n",
       "      <th>3</th>\n",
       "      <td>141237</td>\n",
       "      <td>27in FHD Monitor</td>\n",
       "      <td>1</td>\n",
       "      <td>149.99</td>\n",
       "      <td>01/05/19 20:33</td>\n",
       "      <td>738 10th St, Los Angeles, CA 90001</td>\n",
       "    </tr>\n",
       "    <tr>\n",
       "      <th>4</th>\n",
       "      <td>141238</td>\n",
       "      <td>Wired Headphones</td>\n",
       "      <td>1</td>\n",
       "      <td>11.99</td>\n",
       "      <td>01/25/19 11:59</td>\n",
       "      <td>387 10th St, Austin, TX 73301</td>\n",
       "    </tr>\n",
       "  </tbody>\n",
       "</table>\n",
       "</div>"
      ],
      "text/plain": [
       "  Order ID                   Product Quantity Ordered Price Each  \\\n",
       "0   141234                    iPhone                1        700   \n",
       "1   141235  Lightning Charging Cable                1      14.95   \n",
       "2   141236          Wired Headphones                2      11.99   \n",
       "3   141237          27in FHD Monitor                1     149.99   \n",
       "4   141238          Wired Headphones                1      11.99   \n",
       "\n",
       "       Order Date                       Purchase Address  \n",
       "0  01/22/19 21:25        944 Walnut St, Boston, MA 02215  \n",
       "1  01/28/19 14:15       185 Maple St, Portland, OR 97035  \n",
       "2  01/17/19 13:33  538 Adams St, San Francisco, CA 94016  \n",
       "3  01/05/19 20:33     738 10th St, Los Angeles, CA 90001  \n",
       "4  01/25/19 11:59          387 10th St, Austin, TX 73301  "
      ]
     },
     "execution_count": 30,
     "metadata": {},
     "output_type": "execute_result"
    }
   ],
   "source": [
    "#Đọc thử một file dữ liệu\n",
    "path = \"C:/Users/Administrator/Desktop/Learn_Data/Portfolio Project/PT_Sale_Analysis/\"\n",
    "data_frame = pd.read_csv(path + \"sales2019_1.csv\")\n",
    "data_frame.head()"
   ]
  },
  {
   "cell_type": "markdown",
   "id": "a8b7ee42",
   "metadata": {},
   "source": [
    "### Gộp 12 file dữ liệu thành một file csv"
   ]
  },
  {
   "cell_type": "code",
   "execution_count": 52,
   "id": "e10b82c7",
   "metadata": {},
   "outputs": [
    {
     "data": {
      "text/plain": [
       "186850"
      ]
     },
     "execution_count": 52,
     "metadata": {},
     "output_type": "execute_result"
    }
   ],
   "source": [
    "\n",
    "data_frame_list = []\n",
    "df_length_list = []\n",
    "\n",
    "files = os.listdir(path)\n",
    "for file in files:\n",
    "    if file.endswith('.csv'):\n",
    "        file_path = path + file\n",
    "        each_df = pd.read_csv(file_path)\n",
    "        data_frame_list.append(each_df)\n",
    "        df = pd.concat(data_frame_list)\n",
    "        length = len(each_df)\n",
    "        df_length_list.append(length)\n",
    "        \n",
    "df.to_csv(\"Sales_2019.csv\", index=False)\n",
    "sum(df_length_list)\n"
   ]
  },
  {
   "cell_type": "markdown",
   "id": "152a59a1",
   "metadata": {},
   "source": [
    "### Xử lý dữ liệu "
   ]
  },
  {
   "cell_type": "code",
   "execution_count": null,
   "id": "474b29f9",
   "metadata": {},
   "outputs": [],
   "source": [
    "#df.isna().values.any() kiểm tra có giá trị NaN không\n",
    "#df.isna().sum() số giá trị bị NaN\n",
    "df = df.dropna(how=\"all\")\n",
    "\n",
    "df = df[df['Month'] != 'Or']"
   ]
  },
  {
   "cell_type": "markdown",
   "id": "06da2ea7",
   "metadata": {},
   "source": [
    "### Để tính doanh thu theo tháng -> tách cột tháng từ Order Date, thêm cột thành tiền của một order \"total_money\" "
   ]
  },
  {
   "cell_type": "code",
   "execution_count": 124,
   "id": "4260212b",
   "metadata": {},
   "outputs": [
    {
     "name": "stdout",
     "output_type": "stream",
     "text": [
      "<class 'pandas.core.frame.DataFrame'>\n",
      "Int64Index: 185950 entries, 0 to 11685\n",
      "Data columns (total 8 columns):\n",
      " #   Column            Non-Null Count   Dtype         \n",
      "---  ------            --------------   -----         \n",
      " 0   Order ID          185950 non-null  object        \n",
      " 1   Product           185950 non-null  object        \n",
      " 2   Quantity Ordered  185950 non-null  int32         \n",
      " 3   Price Each        185950 non-null  float64       \n",
      " 4   Order Date        185950 non-null  datetime64[ns]\n",
      " 5   Purchase Address  185950 non-null  object        \n",
      " 6   Month             185950 non-null  object        \n",
      " 7   Total Money       185950 non-null  float64       \n",
      "dtypes: datetime64[ns](1), float64(2), int32(1), object(4)\n",
      "memory usage: 12.1+ MB\n"
     ]
    }
   ],
   "source": [
    "#Thêm mới cột tháng\n",
    "\n",
    "df['Month'] = df['Order Date'].str[0:2]\n",
    "\n",
    "#Convert Quantity Order -> int, Price Each -> float, Order Date -> datetime\n",
    "df = df.astype({'Price Each':'float'})\n",
    "df = df.astype({'Quantity Ordered':'int'})\n",
    "df['Order Date'] =  pd.to_datetime(df['Order Date'])\n",
    "\n",
    "#Thêm column Total Money \n",
    "df['Total Money'] = df['Price Each'] * df['Quantity Ordered']\n"
   ]
  },
  {
   "cell_type": "code",
   "execution_count": 236,
   "id": "fcf2a9a7",
   "metadata": {},
   "outputs": [
    {
     "data": {
      "text/html": [
       "<div>\n",
       "<style scoped>\n",
       "    .dataframe tbody tr th:only-of-type {\n",
       "        vertical-align: middle;\n",
       "    }\n",
       "\n",
       "    .dataframe tbody tr th {\n",
       "        vertical-align: top;\n",
       "    }\n",
       "\n",
       "    .dataframe thead th {\n",
       "        text-align: right;\n",
       "    }\n",
       "</style>\n",
       "<table border=\"1\" class=\"dataframe\">\n",
       "  <thead>\n",
       "    <tr style=\"text-align: right;\">\n",
       "      <th></th>\n",
       "      <th>Order ID</th>\n",
       "      <th>Product</th>\n",
       "      <th>Quantity Ordered</th>\n",
       "      <th>Price Each</th>\n",
       "      <th>Order Date</th>\n",
       "      <th>Purchase Address</th>\n",
       "      <th>Month</th>\n",
       "      <th>Total Money</th>\n",
       "      <th>Hour</th>\n",
       "      <th>City</th>\n",
       "    </tr>\n",
       "  </thead>\n",
       "  <tbody>\n",
       "    <tr>\n",
       "      <th>0</th>\n",
       "      <td>141234</td>\n",
       "      <td>iPhone</td>\n",
       "      <td>1</td>\n",
       "      <td>700.00</td>\n",
       "      <td>2019-01-22 21:25:00</td>\n",
       "      <td>944 Walnut St, Boston, MA 02215</td>\n",
       "      <td>01</td>\n",
       "      <td>700.00</td>\n",
       "      <td>21</td>\n",
       "      <td>Boston</td>\n",
       "    </tr>\n",
       "    <tr>\n",
       "      <th>1</th>\n",
       "      <td>141235</td>\n",
       "      <td>Lightning Charging Cable</td>\n",
       "      <td>1</td>\n",
       "      <td>14.95</td>\n",
       "      <td>2019-01-28 14:15:00</td>\n",
       "      <td>185 Maple St, Portland, OR 97035</td>\n",
       "      <td>01</td>\n",
       "      <td>14.95</td>\n",
       "      <td>14</td>\n",
       "      <td>Portland</td>\n",
       "    </tr>\n",
       "    <tr>\n",
       "      <th>2</th>\n",
       "      <td>141236</td>\n",
       "      <td>Wired Headphones</td>\n",
       "      <td>2</td>\n",
       "      <td>11.99</td>\n",
       "      <td>2019-01-17 13:33:00</td>\n",
       "      <td>538 Adams St, San Francisco, CA 94016</td>\n",
       "      <td>01</td>\n",
       "      <td>23.98</td>\n",
       "      <td>13</td>\n",
       "      <td>San Francisco</td>\n",
       "    </tr>\n",
       "    <tr>\n",
       "      <th>3</th>\n",
       "      <td>141237</td>\n",
       "      <td>27in FHD Monitor</td>\n",
       "      <td>1</td>\n",
       "      <td>149.99</td>\n",
       "      <td>2019-01-05 20:33:00</td>\n",
       "      <td>738 10th St, Los Angeles, CA 90001</td>\n",
       "      <td>01</td>\n",
       "      <td>149.99</td>\n",
       "      <td>20</td>\n",
       "      <td>Los Angeles</td>\n",
       "    </tr>\n",
       "    <tr>\n",
       "      <th>4</th>\n",
       "      <td>141238</td>\n",
       "      <td>Wired Headphones</td>\n",
       "      <td>1</td>\n",
       "      <td>11.99</td>\n",
       "      <td>2019-01-25 11:59:00</td>\n",
       "      <td>387 10th St, Austin, TX 73301</td>\n",
       "      <td>01</td>\n",
       "      <td>11.99</td>\n",
       "      <td>11</td>\n",
       "      <td>Austin</td>\n",
       "    </tr>\n",
       "  </tbody>\n",
       "</table>\n",
       "</div>"
      ],
      "text/plain": [
       "  Order ID                   Product  Quantity Ordered  Price Each  \\\n",
       "0   141234                    iPhone                 1      700.00   \n",
       "1   141235  Lightning Charging Cable                 1       14.95   \n",
       "2   141236          Wired Headphones                 2       11.99   \n",
       "3   141237          27in FHD Monitor                 1      149.99   \n",
       "4   141238          Wired Headphones                 1       11.99   \n",
       "\n",
       "           Order Date                       Purchase Address Month  \\\n",
       "0 2019-01-22 21:25:00        944 Walnut St, Boston, MA 02215    01   \n",
       "1 2019-01-28 14:15:00       185 Maple St, Portland, OR 97035    01   \n",
       "2 2019-01-17 13:33:00  538 Adams St, San Francisco, CA 94016    01   \n",
       "3 2019-01-05 20:33:00     738 10th St, Los Angeles, CA 90001    01   \n",
       "4 2019-01-25 11:59:00          387 10th St, Austin, TX 73301    01   \n",
       "\n",
       "   Total Money  Hour            City  \n",
       "0       700.00    21          Boston  \n",
       "1        14.95    14        Portland  \n",
       "2        23.98    13   San Francisco  \n",
       "3       149.99    20     Los Angeles  \n",
       "4        11.99    11          Austin  "
      ]
     },
     "execution_count": 236,
     "metadata": {},
     "output_type": "execute_result"
    }
   ],
   "source": [
    "#Thêm mới cột hours\n",
    "\n",
    "df['Hour'] = df['Order Date'].dt.hour\n",
    "df.head()\n"
   ]
  },
  {
   "cell_type": "code",
   "execution_count": 233,
   "id": "541d9fa0",
   "metadata": {},
   "outputs": [
    {
     "data": {
      "text/html": [
       "<div>\n",
       "<style scoped>\n",
       "    .dataframe tbody tr th:only-of-type {\n",
       "        vertical-align: middle;\n",
       "    }\n",
       "\n",
       "    .dataframe tbody tr th {\n",
       "        vertical-align: top;\n",
       "    }\n",
       "\n",
       "    .dataframe thead th {\n",
       "        text-align: right;\n",
       "    }\n",
       "</style>\n",
       "<table border=\"1\" class=\"dataframe\">\n",
       "  <thead>\n",
       "    <tr style=\"text-align: right;\">\n",
       "      <th></th>\n",
       "      <th>Order ID</th>\n",
       "      <th>Product</th>\n",
       "      <th>Quantity Ordered</th>\n",
       "      <th>Price Each</th>\n",
       "      <th>Order Date</th>\n",
       "      <th>Purchase Address</th>\n",
       "      <th>Month</th>\n",
       "      <th>Total Money</th>\n",
       "      <th>Hour</th>\n",
       "      <th>City</th>\n",
       "    </tr>\n",
       "  </thead>\n",
       "  <tbody>\n",
       "    <tr>\n",
       "      <th>0</th>\n",
       "      <td>141234</td>\n",
       "      <td>iPhone</td>\n",
       "      <td>1</td>\n",
       "      <td>700.00</td>\n",
       "      <td>2019-01-22 21:25:00</td>\n",
       "      <td>944 Walnut St, Boston, MA 02215</td>\n",
       "      <td>01</td>\n",
       "      <td>700.00</td>\n",
       "      <td>21</td>\n",
       "      <td>Boston</td>\n",
       "    </tr>\n",
       "    <tr>\n",
       "      <th>1</th>\n",
       "      <td>141235</td>\n",
       "      <td>Lightning Charging Cable</td>\n",
       "      <td>1</td>\n",
       "      <td>14.95</td>\n",
       "      <td>2019-01-28 14:15:00</td>\n",
       "      <td>185 Maple St, Portland, OR 97035</td>\n",
       "      <td>01</td>\n",
       "      <td>14.95</td>\n",
       "      <td>14</td>\n",
       "      <td>Portland</td>\n",
       "    </tr>\n",
       "    <tr>\n",
       "      <th>2</th>\n",
       "      <td>141236</td>\n",
       "      <td>Wired Headphones</td>\n",
       "      <td>2</td>\n",
       "      <td>11.99</td>\n",
       "      <td>2019-01-17 13:33:00</td>\n",
       "      <td>538 Adams St, San Francisco, CA 94016</td>\n",
       "      <td>01</td>\n",
       "      <td>23.98</td>\n",
       "      <td>13</td>\n",
       "      <td>San Francisco</td>\n",
       "    </tr>\n",
       "    <tr>\n",
       "      <th>3</th>\n",
       "      <td>141237</td>\n",
       "      <td>27in FHD Monitor</td>\n",
       "      <td>1</td>\n",
       "      <td>149.99</td>\n",
       "      <td>2019-01-05 20:33:00</td>\n",
       "      <td>738 10th St, Los Angeles, CA 90001</td>\n",
       "      <td>01</td>\n",
       "      <td>149.99</td>\n",
       "      <td>20</td>\n",
       "      <td>Los Angeles</td>\n",
       "    </tr>\n",
       "    <tr>\n",
       "      <th>4</th>\n",
       "      <td>141238</td>\n",
       "      <td>Wired Headphones</td>\n",
       "      <td>1</td>\n",
       "      <td>11.99</td>\n",
       "      <td>2019-01-25 11:59:00</td>\n",
       "      <td>387 10th St, Austin, TX 73301</td>\n",
       "      <td>01</td>\n",
       "      <td>11.99</td>\n",
       "      <td>11</td>\n",
       "      <td>Austin</td>\n",
       "    </tr>\n",
       "  </tbody>\n",
       "</table>\n",
       "</div>"
      ],
      "text/plain": [
       "  Order ID                   Product  Quantity Ordered  Price Each  \\\n",
       "0   141234                    iPhone                 1      700.00   \n",
       "1   141235  Lightning Charging Cable                 1       14.95   \n",
       "2   141236          Wired Headphones                 2       11.99   \n",
       "3   141237          27in FHD Monitor                 1      149.99   \n",
       "4   141238          Wired Headphones                 1       11.99   \n",
       "\n",
       "           Order Date                       Purchase Address Month  \\\n",
       "0 2019-01-22 21:25:00        944 Walnut St, Boston, MA 02215    01   \n",
       "1 2019-01-28 14:15:00       185 Maple St, Portland, OR 97035    01   \n",
       "2 2019-01-17 13:33:00  538 Adams St, San Francisco, CA 94016    01   \n",
       "3 2019-01-05 20:33:00     738 10th St, Los Angeles, CA 90001    01   \n",
       "4 2019-01-25 11:59:00          387 10th St, Austin, TX 73301    01   \n",
       "\n",
       "   Total Money  Hour            City  \n",
       "0       700.00    21          Boston  \n",
       "1        14.95    14        Portland  \n",
       "2        23.98    13   San Francisco  \n",
       "3       149.99    20     Los Angeles  \n",
       "4        11.99    11          Austin  "
      ]
     },
     "execution_count": 233,
     "metadata": {},
     "output_type": "execute_result"
    }
   ],
   "source": [
    "#Thêm mới cột City từ Purchase Address\n",
    "\n",
    "df['City'] = df['Purchase Address'].apply(lambda x:x.split(',')[1])\n",
    "df.head()\n"
   ]
  },
  {
   "cell_type": "markdown",
   "id": "5658b89f",
   "metadata": {},
   "source": [
    "### Câu 1: Tháng nào có doanh thu cao nhất và bằng bao nhiêu?\n",
    "Tháng 12 có doanh thu cao nhất và bằng '4613443,34 $'"
   ]
  },
  {
   "cell_type": "code",
   "execution_count": 174,
   "id": "8319686f",
   "metadata": {
    "scrolled": true
   },
   "outputs": [
    {
     "data": {
      "text/plain": [
       "['01', '02', '03', '04', '05', '06', '07', '08', '09', '10', '11', '12']"
      ]
     },
     "execution_count": 174,
     "metadata": {},
     "output_type": "execute_result"
    }
   ],
   "source": [
    "revenues = df.groupby('Month').sum()['Total Money']\n",
    "revenues.sort_values(ascending=False)\n",
    "months = []\n",
    "\n",
    "for month, revenue in revenues.items():\n",
    "    months.append(month)\n",
    "    \n",
    "months"
   ]
  },
  {
   "cell_type": "markdown",
   "id": "7c789f95",
   "metadata": {},
   "source": [
    "### Biểu đồ doanh thu theo tháng"
   ]
  },
  {
   "cell_type": "code",
   "execution_count": 178,
   "id": "1606d25e",
   "metadata": {
    "scrolled": true
   },
   "outputs": [
    {
     "data": {
      "image/png": "[encoded data removed]",
      "text/plain": [
       "<Figure size 432x288 with 1 Axes>"
      ]
     },
     "metadata": {
      "needs_background": "light"
     },
     "output_type": "display_data"
    }
   ],
   "source": [
    "plt.bar(months, revenues)\n",
    "plt.title(\"Biểu đồ doanh thu theo tháng\")\n",
    "plt.\n",
    "plt.ylabel(\"Doanh thu $\")\n",
    "plt.xlabel(\"Tháng\");"
   ]
  },
  {
   "cell_type": "markdown",
   "id": "d4e72e41",
   "metadata": {},
   "source": [
    "### Câu 2: Thành phố nào có doanh thu cao nhất và bằng bao nhiêu?\n",
    "Thành phố có doanh thu cao nhất là San Francisco '8262203.91 $'"
   ]
  },
  {
   "cell_type": "code",
   "execution_count": 208,
   "id": "97bc24e0",
   "metadata": {},
   "outputs": [
    {
     "data": {
      "text/plain": [
       "array([' Atlanta', ' Austin', ' Boston', ' Dallas', ' Los Angeles',\n",
       "       ' New York City', ' Portland', ' San Francisco', ' Seattle'],\n",
       "      dtype=object)"
      ]
     },
     "execution_count": 208,
     "metadata": {},
     "output_type": "execute_result"
    }
   ],
   "source": [
    "revenue_by_cities = df.groupby('City').sum()['Total Money']\n",
    "revenue_by_cities\n",
    "cities = df['City'].unique()\n",
    "np.sort(cities)\n"
   ]
  },
  {
   "cell_type": "code",
   "execution_count": 244,
   "id": "7c8ee6ed",
   "metadata": {},
   "outputs": [
    {
     "data": {
      "text/plain": [
       "array([' Boston', ' Portland', ' San Francisco', ' Los Angeles',\n",
       "       ' Austin', ' Atlanta', ' Seattle', ' New York City', ' Dallas'],\n",
       "      dtype=object)"
      ]
     },
     "execution_count": 244,
     "metadata": {},
     "output_type": "execute_result"
    }
   ],
   "source": [
    "len(cities)\n",
    "np.array(cities)"
   ]
  },
  {
   "cell_type": "markdown",
   "id": "01bae3bc",
   "metadata": {},
   "source": [
    "### Vẽ biểu đồ doanh thu theo thành phố "
   ]
  },
  {
   "cell_type": "code",
   "execution_count": 246,
   "id": "88d22766",
   "metadata": {},
   "outputs": [
    {
     "data": {
      "image/png": "[encoded data removed]",
      "text/plain": [
       "<Figure size 432x288 with 1 Axes>"
      ]
     },
     "metadata": {
      "needs_background": "light"
     },
     "output_type": "display_data"
    }
   ],
   "source": [
    "\n",
    "plt.barh(np.sort(cities), revenue_by_cities, color='g')\n",
    "\n",
    "plt.title('Doanh thu theo thành phố')\n",
    "plt.ylabel('Thành phố')\n",
    "plt.xlabel('Doanh thu $');"
   ]
  },
  {
   "cell_type": "markdown",
   "id": "fc837cd4",
   "metadata": {},
   "source": [
    "### Câu 3: Doanh nghiệp cần chạy quảng cáo vào khung giờ nào để tăng hiệu quả kinh doanh?\n",
    "TH1: Hiệu quả kinh doanh ở đây nghĩa là tại khung giờ đó bán được số lượng đơn hàng lớn nhất\n",
    "TH2: Hiệu quả kinh doanh ở đây nghĩa là tại khung giờ đó có doanh thu lớn nhất\n",
    "\n",
    "Trả lời: Về cơ bản cả 2 hướng tiếp cận đều cho kết quả tương tự như nhau. Có 2 khung giờ đạt được kết quả kinh doanh tốt nhất là 11-13h am và 18h-20h "
   ]
  },
  {
   "cell_type": "code",
   "execution_count": 292,
   "id": "1425dcdb",
   "metadata": {},
   "outputs": [
    {
     "data": {
      "text/plain": [
       "Hour\n",
       "0      713721.27\n",
       "1      460866.88\n",
       "2      234851.44\n",
       "3      145757.89\n",
       "4      162661.01\n",
       "5      230679.82\n",
       "6      448113.00\n",
       "7      744854.12\n",
       "8     1192348.97\n",
       "9     1639030.58\n",
       "10    1944286.77\n",
       "11    2300610.24\n",
       "12    2316821.34\n",
       "13    2155389.80\n",
       "14    2083672.73\n",
       "15    1941549.60\n",
       "16    1904601.31\n",
       "17    2129361.61\n",
       "18    2219348.30\n",
       "19    2412938.54\n",
       "20    2281716.24\n",
       "21    2042000.86\n",
       "22    1607549.21\n",
       "23    1179304.44\n",
       "Name: Total Money, dtype: float64"
      ]
     },
     "execution_count": 292,
     "metadata": {},
     "output_type": "execute_result"
    }
   ],
   "source": [
    "y1 = df.groupby('Hour').sum()['Total Money']\n",
    "hours = np.sort(df['Hour'].unique())\n",
    "y1"
   ]
  },
  {
   "cell_type": "code",
   "execution_count": 293,
   "id": "67f2da7c",
   "metadata": {},
   "outputs": [
    {
     "data": {
      "text/plain": [
       "Hour\n",
       "0      3910\n",
       "1      2350\n",
       "2      1243\n",
       "3       831\n",
       "4       854\n",
       "5      1321\n",
       "6      2482\n",
       "7      4011\n",
       "8      6256\n",
       "9      8748\n",
       "10    10944\n",
       "11    12411\n",
       "12    12587\n",
       "13    12129\n",
       "14    10984\n",
       "15    10175\n",
       "16    10384\n",
       "17    10899\n",
       "18    12280\n",
       "19    12905\n",
       "20    12228\n",
       "21    10921\n",
       "22     8822\n",
       "23     6275\n",
       "Name: Order ID, dtype: int64"
      ]
     },
     "execution_count": 293,
     "metadata": {},
     "output_type": "execute_result"
    }
   ],
   "source": [
    "y2 = df.groupby('Hour').count()['Order ID']\n",
    "y2"
   ]
  },
  {
   "cell_type": "code",
   "execution_count": 289,
   "id": "440037de",
   "metadata": {
    "scrolled": true
   },
   "outputs": [
    {
     "data": {
      "image/png": "[encoded data removed]",
      "text/plain": [
       "<Figure size 720x360 with 1 Axes>"
      ]
     },
     "metadata": {
      "needs_background": "light"
     },
     "output_type": "display_data"
    }
   ],
   "source": [
    "plt.figure(figsize=(10, 5))\n",
    "plt.plot(hours, y1)\n",
    "plt.title('Biểu đồ doanh thu theo khung giờ')\n",
    "plt.ylabel('Doanh thu (triệu $)')\n",
    "plt.xlabel('Khung giờ')\n",
    "plt.xticks(hours, size=12);"
   ]
  },
  {
   "cell_type": "code",
   "execution_count": 288,
   "id": "eaf26de0",
   "metadata": {
    "scrolled": true
   },
   "outputs": [
    {
     "data": {
      "image/png": "[encoded data removed]",
      "text/plain": [
       "<Figure size 720x360 with 1 Axes>"
      ]
     },
     "metadata": {
      "needs_background": "light"
     },
     "output_type": "display_data"
    }
   ],
   "source": [
    "plt.figure(figsize=(10, 5))\n",
    "plt.plot(hours, y2)\n",
    "plt.title('Biểu đồ số lượng đơn hàng theo khung giờ')\n",
    "plt.ylabel('Số lượng đơn hàng')\n",
    "plt.xlabel('Khung giờ')\n",
    "plt.xticks(hours, size=12);"
   ]
  },
  {
   "cell_type": "markdown",
   "id": "2fa19d8b",
   "metadata": {},
   "source": [
    "### Câu 4: Sán phẩm nào được mua nhiều nhất? Giả thiết của bạn về lý do sản phẩm đó bán chạy? \n",
    "Sản phẩm bán chạy nhất là AAA Batteries (4-pack)        31017"
   ]
  },
  {
   "cell_type": "code",
   "execution_count": 306,
   "id": "fcba205e",
   "metadata": {
    "scrolled": true
   },
   "outputs": [],
   "source": [
    "qty_order = df.groupby('Product').sum()['Quantity Ordered']\n",
    "products = []\n",
    "for product, qty in qty_order.items():\n",
    "    products.append(product)\n"
   ]
  },
  {
   "cell_type": "code",
   "execution_count": 314,
   "id": "531830d6",
   "metadata": {},
   "outputs": [],
   "source": [
    "avg_price = df.groupby('Product').mean()['Price Each']\n"
   ]
  },
  {
   "cell_type": "code",
   "execution_count": 355,
   "id": "18c5bacd",
   "metadata": {
    "scrolled": true
   },
   "outputs": [
    {
     "data": {
      "image/png": "[encoded data removed]",
      "text/plain": [
       "<Figure size 720x360 with 1 Axes>"
      ]
     },
     "metadata": {
      "needs_background": "light"
     },
     "output_type": "display_data"
    }
   ],
   "source": [
    "plt.figure(figsize=(10,5))\n",
    "plt.barh(products, qty_order)\n",
    "plt.title('Biểu đồ số lượng sản phẩm đã bán')\n",
    "plt.ylabel('Sản phẩm')\n",
    "plt.xlabel('Số lượng bán ra');"
   ]
  },
  {
   "cell_type": "code",
   "execution_count": 358,
   "id": "f24ee5f2",
   "metadata": {},
   "outputs": [
    {
     "name": "stderr",
     "output_type": "stream",
     "text": [
      "C:\\Users\\ADMINI~1\\AppData\\Local\\Temp/ipykernel_2900/2926286861.py:12: UserWarning: FixedFormatter should only be used together with FixedLocator\n",
      "  ax1.set_xticklabels(products, rotation=90)\n"
     ]
    },
    {
     "data": {
      "image/png": "[encoded data removed]",
      "text/plain": [
       "<Figure size 432x288 with 2 Axes>"
      ]
     },
     "metadata": {
      "needs_background": "light"
     },
     "output_type": "display_data"
    }
   ],
   "source": [
    "x = products\n",
    "y1 = qty_order\n",
    "y2 = avg_price\n",
    "fig, ax1 = plt.subplots()\n",
    "plt.title('Biểu đồ giá và số lượng sản phẩm bán ra')\n",
    "\n",
    "ax2 = ax1.twinx()\n",
    "ax1.bar(x, y1, color='green')\n",
    "ax2.plot(x, y2, color='blue')\n",
    "\n",
    "ax1.set_xlabel('Sản phẩm')\n",
    "ax1.set_xticklabels(products, rotation=90)\n",
    "ax1.set_ylabel('Số lượng sản phẩm', color='green')\n",
    "ax2.set_ylabel('Giá $', color='blue');\n"
   ]
  }
 ],
 "metadata": {
  "kernelspec": {
   "display_name": "Python 3 (ipykernel)",
   "language": "python",
   "name": "python3"
  },
  "language_info": {
   "codemirror_mode": {
    "name": "ipython",
    "version": 3
   },
   "file_extension": ".py",
   "mimetype": "text/x-python",
   "name": "python",
   "nbconvert_exporter": "python",
   "pygments_lexer": "ipython3",
   "version": "3.9.7"
  }
 },
 "nbformat": 4,
 "nbformat_minor": 5
}
